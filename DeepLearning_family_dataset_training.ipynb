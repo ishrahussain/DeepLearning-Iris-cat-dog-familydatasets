{
  "nbformat": 4,
  "nbformat_minor": 0,
  "metadata": {
    "colab": {
      "name": "DeepLearning-family-dataset-training",
      "provenance": [],
      "collapsed_sections": []
    },
    "kernelspec": {
      "name": "python3",
      "display_name": "Python 3"
    }
  },
  "cells": [
    {
      "cell_type": "code",
      "metadata": {
        "id": "UbDKiwM9_luq",
        "colab_type": "code",
        "colab": {
          "base_uri": "https://localhost:8080/",
          "height": 34
        },
        "outputId": "6441b032-bd9a-44c7-fcd3-6e679facb098"
      },
      "source": [
        "from google.colab import drive\n",
        "drive.mount('/content/gdrive')"
      ],
      "execution_count": 18,
      "outputs": [
        {
          "output_type": "stream",
          "text": [
            "Drive already mounted at /content/gdrive; to attempt to forcibly remount, call drive.mount(\"/content/gdrive\", force_remount=True).\n"
          ],
          "name": "stdout"
        }
      ]
    },
    {
      "cell_type": "code",
      "metadata": {
        "id": "ePOrCiDAJrtJ",
        "colab_type": "code",
        "colab": {
          "base_uri": "https://localhost:8080/",
          "height": 34
        },
        "outputId": "ec4f8609-f2a7-429f-9a60-e3fe74497222"
      },
      "source": [
        "!ls \"/content/gdrive/My Drive/training-dataset-family\""
      ],
      "execution_count": 19,
      "outputs": [
        {
          "output_type": "stream",
          "text": [
            "ammad  rehan  sami\n"
          ],
          "name": "stdout"
        }
      ]
    },
    {
      "cell_type": "code",
      "metadata": {
        "id": "7agCFFdJJscw",
        "colab_type": "code",
        "colab": {}
      },
      "source": [
        "from tensorflow.keras.models import Sequential\n",
        "from tensorflow.keras.layers import Dense, Flatten\n",
        "from tensorflow.keras.optimizers import Adam, SGD\n",
        "from tensorflow.keras.preprocessing.image import ImageDataGenerator"
      ],
      "execution_count": 20,
      "outputs": []
    },
    {
      "cell_type": "code",
      "metadata": {
        "id": "Lk1bXOXyJspi",
        "colab_type": "code",
        "colab": {}
      },
      "source": [
        "train_data_gen = ImageDataGenerator(rescale=1.0/255)"
      ],
      "execution_count": 21,
      "outputs": []
    },
    {
      "cell_type": "code",
      "metadata": {
        "id": "XKf8D_lBKfAB",
        "colab_type": "code",
        "colab": {
          "base_uri": "https://localhost:8080/",
          "height": 34
        },
        "outputId": "a257f06f-96be-4c11-b442-40c8ced48533"
      },
      "source": [
        "train_data = train_data_gen.flow_from_directory(\n",
        "    \"/content/gdrive/My Drive/training-dataset-family\",\n",
        "    target_size=(150, 150),\n",
        "    batch_size=20,\n",
        "    class_mode=\"categorical\"\n",
        ")"
      ],
      "execution_count": 22,
      "outputs": [
        {
          "output_type": "stream",
          "text": [
            "Found 199 images belonging to 3 classes.\n"
          ],
          "name": "stdout"
        }
      ]
    },
    {
      "cell_type": "code",
      "metadata": {
        "id": "1S-WH00cKfJy",
        "colab_type": "code",
        "colab": {
          "base_uri": "https://localhost:8080/",
          "height": 34
        },
        "outputId": "89f2fc98-2ab4-4f1b-ecb6-587ed8881da5"
      },
      "source": [
        "train_data.class_indices"
      ],
      "execution_count": 23,
      "outputs": [
        {
          "output_type": "execute_result",
          "data": {
            "text/plain": [
              "{'ammad': 0, 'rehan': 1, 'sami': 2}"
            ]
          },
          "metadata": {
            "tags": []
          },
          "execution_count": 23
        }
      ]
    },
    {
      "cell_type": "code",
      "metadata": {
        "id": "G5cIQF4qK62u",
        "colab_type": "code",
        "colab": {}
      },
      "source": [
        "model = Sequential()\n",
        "model.add(Flatten())\n",
        "model.add(Dense(5000, activation='relu'))\n",
        "model.add(Dense(300, activation='relu'))\n",
        "model.add(Dense(1, activation='sigmoid'))"
      ],
      "execution_count": 24,
      "outputs": []
    },
    {
      "cell_type": "code",
      "metadata": {
        "id": "554vGjBOK_Sh",
        "colab_type": "code",
        "colab": {}
      },
      "source": [
        "model.compile(optimizer='adam',\n",
        "              loss='categorical_crossentropy', \n",
        "              metrics = ['acc']\n",
        "              )"
      ],
      "execution_count": 25,
      "outputs": []
    },
    {
      "cell_type": "code",
      "metadata": {
        "id": "qXYVchTMLIVP",
        "colab_type": "code",
        "colab": {
          "base_uri": "https://localhost:8080/",
          "height": 527
        },
        "outputId": "285ff8f8-b749-4aba-b247-99f5b69928dc"
      },
      "source": [
        "hist = model.fit(train_data, epochs=15)"
      ],
      "execution_count": 26,
      "outputs": [
        {
          "output_type": "stream",
          "text": [
            "Epoch 1/15\n",
            "10/10 [==============================] - 29s 3s/step - loss: 1.1921e-07 - acc: 0.4556\n",
            "Epoch 2/15\n",
            "10/10 [==============================] - 29s 3s/step - loss: 1.1921e-07 - acc: 0.4556\n",
            "Epoch 3/15\n",
            "10/10 [==============================] - 30s 3s/step - loss: 1.1921e-07 - acc: 0.4556\n",
            "Epoch 4/15\n",
            "10/10 [==============================] - 29s 3s/step - loss: 1.1921e-07 - acc: 0.4556\n",
            "Epoch 5/15\n",
            "10/10 [==============================] - 29s 3s/step - loss: 1.1921e-07 - acc: 0.4556\n",
            "Epoch 6/15\n",
            "10/10 [==============================] - 30s 3s/step - loss: 1.1921e-07 - acc: 0.4556\n",
            "Epoch 7/15\n",
            "10/10 [==============================] - 29s 3s/step - loss: 1.1921e-07 - acc: 0.4556\n",
            "Epoch 8/15\n",
            "10/10 [==============================] - 30s 3s/step - loss: 1.1921e-07 - acc: 0.4556\n",
            "Epoch 9/15\n",
            "10/10 [==============================] - 29s 3s/step - loss: 1.1921e-07 - acc: 0.4556\n",
            "Epoch 10/15\n",
            "10/10 [==============================] - 30s 3s/step - loss: 1.1921e-07 - acc: 0.4556\n",
            "Epoch 11/15\n",
            "10/10 [==============================] - 29s 3s/step - loss: 1.1921e-07 - acc: 0.4556\n",
            "Epoch 12/15\n",
            "10/10 [==============================] - 30s 3s/step - loss: 1.1921e-07 - acc: 0.4556\n",
            "Epoch 13/15\n",
            "10/10 [==============================] - 29s 3s/step - loss: 1.1921e-07 - acc: 0.4556\n",
            "Epoch 14/15\n",
            "10/10 [==============================] - 29s 3s/step - loss: 1.1921e-07 - acc: 0.4556\n",
            "Epoch 15/15\n",
            "10/10 [==============================] - 30s 3s/step - loss: 1.1921e-07 - acc: 0.4556\n"
          ],
          "name": "stdout"
        }
      ]
    },
    {
      "cell_type": "code",
      "metadata": {
        "id": "q-PoMAu1UgDP",
        "colab_type": "code",
        "colab": {
          "base_uri": "https://localhost:8080/",
          "height": 51
        },
        "outputId": "04aafd0d-f406-4470-daab-5ad7f69a42a2"
      },
      "source": [
        "model.evaluate(train_data)"
      ],
      "execution_count": 27,
      "outputs": [
        {
          "output_type": "stream",
          "text": [
            "10/10 [==============================] - 23s 2s/step - loss: 1.1921e-07 - acc: 0.4556\n"
          ],
          "name": "stdout"
        },
        {
          "output_type": "execute_result",
          "data": {
            "text/plain": [
              "[1.1920928955078125e-07, 0.45561137795448303]"
            ]
          },
          "metadata": {
            "tags": []
          },
          "execution_count": 27
        }
      ]
    },
    {
      "cell_type": "code",
      "metadata": {
        "id": "3DkJ1qvuLNgq",
        "colab_type": "code",
        "colab": {
          "base_uri": "https://localhost:8080/",
          "height": 34
        },
        "outputId": "f4fd8331-2667-4dec-8f9c-93313d7cc859"
      },
      "source": [
        "test_data = train_data_gen.flow_from_directory(\n",
        "    \"/content/gdrive/My Drive/test-dataset-family\",\n",
        "    target_size=(150,150),\n",
        "    batch_size=20,\n",
        "    class_mode='categorical'\n",
        ")"
      ],
      "execution_count": 28,
      "outputs": [
        {
          "output_type": "stream",
          "text": [
            "Found 37 images belonging to 3 classes.\n"
          ],
          "name": "stdout"
        }
      ]
    },
    {
      "cell_type": "code",
      "metadata": {
        "id": "hozf0QljT6cw",
        "colab_type": "code",
        "colab": {}
      },
      "source": [
        "import numpy as np"
      ],
      "execution_count": 29,
      "outputs": []
    },
    {
      "cell_type": "code",
      "metadata": {
        "id": "jc0t8Ap9TwM4",
        "colab_type": "code",
        "colab": {
          "base_uri": "https://localhost:8080/",
          "height": 646
        },
        "outputId": "1de50475-339f-4a91-a9fc-9ffb91de809f"
      },
      "source": [
        "model.predict(test_data)"
      ],
      "execution_count": 30,
      "outputs": [
        {
          "output_type": "execute_result",
          "data": {
            "text/plain": [
              "array([[0.41766763],\n",
              "       [0.56722546],\n",
              "       [0.50423735],\n",
              "       [0.4903302 ],\n",
              "       [0.35899827],\n",
              "       [0.69500726],\n",
              "       [0.69099224],\n",
              "       [0.5918263 ],\n",
              "       [0.6331076 ],\n",
              "       [0.4004333 ],\n",
              "       [0.58489126],\n",
              "       [0.45647255],\n",
              "       [0.60626346],\n",
              "       [0.58636117],\n",
              "       [0.65979445],\n",
              "       [0.46576807],\n",
              "       [0.6135473 ],\n",
              "       [0.57892644],\n",
              "       [0.5999357 ],\n",
              "       [0.5516627 ],\n",
              "       [0.54300654],\n",
              "       [0.5911392 ],\n",
              "       [0.52837783],\n",
              "       [0.5858996 ],\n",
              "       [0.4467811 ],\n",
              "       [0.48896527],\n",
              "       [0.46675387],\n",
              "       [0.6610236 ],\n",
              "       [0.4115354 ],\n",
              "       [0.6162964 ],\n",
              "       [0.48763   ],\n",
              "       [0.62433076],\n",
              "       [0.5478844 ],\n",
              "       [0.34767553],\n",
              "       [0.58597225],\n",
              "       [0.68113554],\n",
              "       [0.5968144 ]], dtype=float32)"
            ]
          },
          "metadata": {
            "tags": []
          },
          "execution_count": 30
        }
      ]
    },
    {
      "cell_type": "code",
      "metadata": {
        "id": "debyG9WLNvPv",
        "colab_type": "code",
        "colab": {
          "base_uri": "https://localhost:8080/",
          "height": 646
        },
        "outputId": "5ceeaee7-d4c7-4381-81d9-27dbb1d30333"
      },
      "source": [
        "for v in model.predict(test_data):\n",
        "  if (v >= 0 and v <= .33):\n",
        "    print('Ammad')\n",
        "  elif (v > 0.33 and v <= .66):\n",
        "    print('Rehan')\n",
        "  elif (v > 0.66 and v <= 1):\n",
        "    print('Sami')"
      ],
      "execution_count": 31,
      "outputs": [
        {
          "output_type": "stream",
          "text": [
            "Rehan\n",
            "Rehan\n",
            "Sami\n",
            "Rehan\n",
            "Rehan\n",
            "Rehan\n",
            "Rehan\n",
            "Rehan\n",
            "Rehan\n",
            "Rehan\n",
            "Rehan\n",
            "Sami\n",
            "Rehan\n",
            "Rehan\n",
            "Rehan\n",
            "Rehan\n",
            "Rehan\n",
            "Sami\n",
            "Rehan\n",
            "Rehan\n",
            "Rehan\n",
            "Rehan\n",
            "Rehan\n",
            "Rehan\n",
            "Rehan\n",
            "Rehan\n",
            "Rehan\n",
            "Rehan\n",
            "Rehan\n",
            "Rehan\n",
            "Sami\n",
            "Rehan\n",
            "Rehan\n",
            "Rehan\n",
            "Rehan\n",
            "Rehan\n",
            "Rehan\n"
          ],
          "name": "stdout"
        }
      ]
    },
    {
      "cell_type": "code",
      "metadata": {
        "id": "DhXzXnjuUJmz",
        "colab_type": "code",
        "colab": {
          "base_uri": "https://localhost:8080/",
          "height": 51
        },
        "outputId": "b0b750e8-9adf-4763-a997-5e3cf74b2f0e"
      },
      "source": [
        "model.evaluate(test_data)"
      ],
      "execution_count": 32,
      "outputs": [
        {
          "output_type": "stream",
          "text": [
            "2/2 [==============================] - 1s 456ms/step - loss: 1.1921e-07 - acc: 0.4414\n"
          ],
          "name": "stdout"
        },
        {
          "output_type": "execute_result",
          "data": {
            "text/plain": [
              "[1.1920928955078125e-07, 0.44144144654273987]"
            ]
          },
          "metadata": {
            "tags": []
          },
          "execution_count": 32
        }
      ]
    }
  ]
}