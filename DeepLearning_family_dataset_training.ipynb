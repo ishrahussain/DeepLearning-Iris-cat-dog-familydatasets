{
  "nbformat": 4,
  "nbformat_minor": 0,
  "metadata": {
    "colab": {
      "name": "DeepLearning-family-dataset-training",
      "provenance": [],
      "collapsed_sections": []
    },
    "kernelspec": {
      "name": "python3",
      "display_name": "Python 3"
    }
  },
  "cells": [
    {
      "cell_type": "code",
      "metadata": {
        "id": "UbDKiwM9_luq",
        "colab_type": "code",
        "colab": {
          "base_uri": "https://localhost:8080/",
          "height": 34
        },
        "outputId": "36ecebfe-aa37-406f-9021-1e93eb131868"
      },
      "source": [
        "from google.colab import drive\n",
        "drive.mount('/content/gdrive')"
      ],
      "execution_count": 15,
      "outputs": [
        {
          "output_type": "stream",
          "text": [
            "Drive already mounted at /content/gdrive; to attempt to forcibly remount, call drive.mount(\"/content/gdrive\", force_remount=True).\n"
          ],
          "name": "stdout"
        }
      ]
    },
    {
      "cell_type": "code",
      "metadata": {
        "id": "ePOrCiDAJrtJ",
        "colab_type": "code",
        "colab": {}
      },
      "source": [
        "!ls \"/content/gdrive/My Drive/training-dataset-family\""
      ],
      "execution_count": null,
      "outputs": []
    },
    {
      "cell_type": "code",
      "metadata": {
        "id": "7agCFFdJJscw",
        "colab_type": "code",
        "colab": {}
      },
      "source": [
        "from tensorflow.keras.models import Sequential\n",
        "from tensorflow.keras.layers import Dense, Flatten\n",
        "from tensorflow.keras.optimizers import Adam, SGD\n",
        "from tensorflow.keras.preprocessing.image import ImageDataGenerator"
      ],
      "execution_count": null,
      "outputs": []
    },
    {
      "cell_type": "code",
      "metadata": {
        "id": "Lk1bXOXyJspi",
        "colab_type": "code",
        "colab": {}
      },
      "source": [
        "train_data_gen = ImageDataGenerator(rescale=1.0/255)"
      ],
      "execution_count": null,
      "outputs": []
    },
    {
      "cell_type": "code",
      "metadata": {
        "id": "XKf8D_lBKfAB",
        "colab_type": "code",
        "colab": {}
      },
      "source": [
        "train_data = train_data_gen.flow_from_directory(\n",
        "    \"/content/gdrive/My Drive/training-dataset-family\",\n",
        "    target_size=(150, 150),\n",
        "    batch_size=20,\n",
        "    class_mode=\"categorical\"\n",
        ")"
      ],
      "execution_count": null,
      "outputs": []
    },
    {
      "cell_type": "code",
      "metadata": {
        "id": "1S-WH00cKfJy",
        "colab_type": "code",
        "colab": {}
      },
      "source": [
        "train_data.class_indices"
      ],
      "execution_count": null,
      "outputs": []
    },
    {
      "cell_type": "code",
      "metadata": {
        "id": "G5cIQF4qK62u",
        "colab_type": "code",
        "colab": {}
      },
      "source": [
        "model = Sequential()\n",
        "model.add(Flatten())\n",
        "model.add(Dense(5000, activation='relu'))\n",
        "model.add(Dense(300, activation='relu'))\n",
        "model.add(Dense(1, activation='sigmoid'))"
      ],
      "execution_count": null,
      "outputs": []
    },
    {
      "cell_type": "code",
      "metadata": {
        "id": "554vGjBOK_Sh",
        "colab_type": "code",
        "colab": {}
      },
      "source": [
        "model.compile(optimizer='adam',\n",
        "              loss='categorical_crossentropy', \n",
        "              metrics = ['acc']\n",
        "              )"
      ],
      "execution_count": null,
      "outputs": []
    },
    {
      "cell_type": "code",
      "metadata": {
        "id": "qXYVchTMLIVP",
        "colab_type": "code",
        "colab": {}
      },
      "source": [
        "hist = model.fit(train_data, epochs=15)"
      ],
      "execution_count": null,
      "outputs": []
    },
    {
      "cell_type": "code",
      "metadata": {
        "id": "q-PoMAu1UgDP",
        "colab_type": "code",
        "colab": {
          "base_uri": "https://localhost:8080/",
          "height": 51
        },
        "outputId": "22484175-6117-4ea0-ea7e-0ec8d7b6f80f"
      },
      "source": [
        "model.evaluate(train_data)"
      ],
      "execution_count": 10,
      "outputs": [
        {
          "output_type": "stream",
          "text": [
            "10/10 [==============================] - 23s 2s/step - loss: 1.1921e-07 - acc: 0.5193\n"
          ],
          "name": "stdout"
        },
        {
          "output_type": "execute_result",
          "data": {
            "text/plain": [
              "[1.1920928955078125e-07, 0.519262969493866]"
            ]
          },
          "metadata": {
            "tags": []
          },
          "execution_count": 10
        }
      ]
    },
    {
      "cell_type": "code",
      "metadata": {
        "id": "3DkJ1qvuLNgq",
        "colab_type": "code",
        "colab": {
          "base_uri": "https://localhost:8080/",
          "height": 34
        },
        "outputId": "adee22ac-db48-4a37-b43d-b9c39f3cd5ba"
      },
      "source": [
        "test_data = train_data_gen.flow_from_directory(\n",
        "    \"/content/gdrive/My Drive/test-dataset-family\",\n",
        "    target_size=(150,150),\n",
        "    batch_size=20,\n",
        "    class_mode='categorical'\n",
        ")"
      ],
      "execution_count": 11,
      "outputs": [
        {
          "output_type": "stream",
          "text": [
            "Found 37 images belonging to 3 classes.\n"
          ],
          "name": "stdout"
        }
      ]
    },
    {
      "cell_type": "code",
      "metadata": {
        "id": "hozf0QljT6cw",
        "colab_type": "code",
        "colab": {}
      },
      "source": [
        "import numpy as np"
      ],
      "execution_count": 12,
      "outputs": []
    },
    {
      "cell_type": "code",
      "metadata": {
        "id": "jc0t8Ap9TwM4",
        "colab_type": "code",
        "colab": {
          "base_uri": "https://localhost:8080/",
          "height": 646
        },
        "outputId": "9ad7d740-bea1-47b2-9934-a3e4d4a45f97"
      },
      "source": [
        "model.predict(test_data)"
      ],
      "execution_count": 13,
      "outputs": [
        {
          "output_type": "execute_result",
          "data": {
            "text/plain": [
              "array([[0.51567864],\n",
              "       [0.5134649 ],\n",
              "       [0.44738075],\n",
              "       [0.48915216],\n",
              "       [0.37403625],\n",
              "       [0.47186998],\n",
              "       [0.34896684],\n",
              "       [0.4925727 ],\n",
              "       [0.5458485 ],\n",
              "       [0.628086  ],\n",
              "       [0.4332346 ],\n",
              "       [0.5541038 ],\n",
              "       [0.5326734 ],\n",
              "       [0.5886911 ],\n",
              "       [0.4093151 ],\n",
              "       [0.47917154],\n",
              "       [0.5380809 ],\n",
              "       [0.63119006],\n",
              "       [0.35931924],\n",
              "       [0.46461195],\n",
              "       [0.61271465],\n",
              "       [0.4203112 ],\n",
              "       [0.4761167 ],\n",
              "       [0.4257645 ],\n",
              "       [0.69203806],\n",
              "       [0.58598983],\n",
              "       [0.50417554],\n",
              "       [0.38370574],\n",
              "       [0.54193217],\n",
              "       [0.5027984 ],\n",
              "       [0.5930832 ],\n",
              "       [0.40706426],\n",
              "       [0.51266176],\n",
              "       [0.54986733],\n",
              "       [0.51796615],\n",
              "       [0.37340418],\n",
              "       [0.54805124]], dtype=float32)"
            ]
          },
          "metadata": {
            "tags": []
          },
          "execution_count": 13
        }
      ]
    },
    {
      "cell_type": "code",
      "metadata": {
        "id": "debyG9WLNvPv",
        "colab_type": "code",
        "colab": {
          "base_uri": "https://localhost:8080/",
          "height": 646
        },
        "outputId": "975c3689-c8a7-4e83-d9f9-5e874f720973"
      },
      "source": [
        "for v in model.predict(test_data):\n",
        "  if (v >= 0 and v <= .33):\n",
        "    print('Ammad')\n",
        "  elif (v > 0.33 and v <= .66):\n",
        "    print('Rehan')\n",
        "  elif (v > 0.66 and v <= 1):\n",
        "    print('Sami')"
      ],
      "execution_count": 16,
      "outputs": [
        {
          "output_type": "stream",
          "text": [
            "Rehan\n",
            "Rehan\n",
            "Rehan\n",
            "Rehan\n",
            "Rehan\n",
            "Rehan\n",
            "Rehan\n",
            "Rehan\n",
            "Rehan\n",
            "Rehan\n",
            "Rehan\n",
            "Rehan\n",
            "Rehan\n",
            "Rehan\n",
            "Rehan\n",
            "Rehan\n",
            "Rehan\n",
            "Rehan\n",
            "Rehan\n",
            "Rehan\n",
            "Rehan\n",
            "Rehan\n",
            "Rehan\n",
            "Rehan\n",
            "Sami\n",
            "Rehan\n",
            "Rehan\n",
            "Rehan\n",
            "Rehan\n",
            "Rehan\n",
            "Rehan\n",
            "Rehan\n",
            "Rehan\n",
            "Rehan\n",
            "Rehan\n",
            "Rehan\n",
            "Rehan\n"
          ],
          "name": "stdout"
        }
      ]
    },
    {
      "cell_type": "code",
      "metadata": {
        "id": "DhXzXnjuUJmz",
        "colab_type": "code",
        "colab": {
          "base_uri": "https://localhost:8080/",
          "height": 51
        },
        "outputId": "76bfc9bf-1ddd-473e-b20a-7d94611fef7b"
      },
      "source": [
        "model.evaluate(test_data)"
      ],
      "execution_count": 17,
      "outputs": [
        {
          "output_type": "stream",
          "text": [
            "2/2 [==============================] - 1s 478ms/step - loss: 1.1921e-07 - acc: 0.4865\n"
          ],
          "name": "stdout"
        },
        {
          "output_type": "execute_result",
          "data": {
            "text/plain": [
              "[1.1920928955078125e-07, 0.4864865243434906]"
            ]
          },
          "metadata": {
            "tags": []
          },
          "execution_count": 17
        }
      ]
    }
  ]
}