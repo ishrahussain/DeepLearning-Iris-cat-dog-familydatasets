{
  "nbformat": 4,
  "nbformat_minor": 0,
  "metadata": {
    "colab": {
      "name": "DeepLearning-Cat-Dog-dataset-training",
      "provenance": [],
      "collapsed_sections": []
    },
    "kernelspec": {
      "name": "python3",
      "display_name": "Python 3"
    }
  },
  "cells": [
    {
      "cell_type": "code",
      "metadata": {
        "id": "UbDKiwM9_luq",
        "colab_type": "code",
        "colab": {
          "base_uri": "https://localhost:8080/",
          "height": 34
        },
        "outputId": "12c7d79f-91d0-4c3e-821f-f2efef938e4b"
      },
      "source": [
        "from google.colab import drive\n",
        "drive.mount('/content/gdrive')"
      ],
      "execution_count": 11,
      "outputs": [
        {
          "output_type": "stream",
          "text": [
            "Drive already mounted at /content/gdrive; to attempt to forcibly remount, call drive.mount(\"/content/gdrive\", force_remount=True).\n"
          ],
          "name": "stdout"
        }
      ]
    },
    {
      "cell_type": "code",
      "metadata": {
        "id": "ePOrCiDAJrtJ",
        "colab_type": "code",
        "colab": {
          "base_uri": "https://localhost:8080/",
          "height": 34
        },
        "outputId": "ed503006-cbd2-4507-f1f4-258b17eb8c77"
      },
      "source": [
        "!ls \"/content/gdrive/My Drive/tranining-set-mini-cat-dog\""
      ],
      "execution_count": 12,
      "outputs": [
        {
          "output_type": "stream",
          "text": [
            "cats  dogs\n"
          ],
          "name": "stdout"
        }
      ]
    },
    {
      "cell_type": "code",
      "metadata": {
        "id": "7agCFFdJJscw",
        "colab_type": "code",
        "colab": {}
      },
      "source": [
        "from tensorflow.keras.models import Sequential\n",
        "from tensorflow.keras.layers import Dense, Flatten\n",
        "from tensorflow.keras.optimizers import Adam, SGD\n",
        "from tensorflow.keras.preprocessing.image import ImageDataGenerator"
      ],
      "execution_count": 13,
      "outputs": []
    },
    {
      "cell_type": "code",
      "metadata": {
        "id": "Lk1bXOXyJspi",
        "colab_type": "code",
        "colab": {}
      },
      "source": [
        "train_data_gen = ImageDataGenerator(rescale=1.0/255)"
      ],
      "execution_count": 14,
      "outputs": []
    },
    {
      "cell_type": "code",
      "metadata": {
        "id": "XKf8D_lBKfAB",
        "colab_type": "code",
        "colab": {
          "base_uri": "https://localhost:8080/",
          "height": 34
        },
        "outputId": "75afb455-6488-48bd-ee27-16f64218df20"
      },
      "source": [
        "train_data = train_data_gen.flow_from_directory(\n",
        "    \"/content/gdrive/My Drive/tranining-set-mini-cat-dog\",\n",
        "    target_size=(150, 150),\n",
        "    batch_size=20,\n",
        "    class_mode=\"binary\"\n",
        ")"
      ],
      "execution_count": 15,
      "outputs": [
        {
          "output_type": "stream",
          "text": [
            "Found 98 images belonging to 2 classes.\n"
          ],
          "name": "stdout"
        }
      ]
    },
    {
      "cell_type": "code",
      "metadata": {
        "id": "1S-WH00cKfJy",
        "colab_type": "code",
        "colab": {
          "base_uri": "https://localhost:8080/",
          "height": 34
        },
        "outputId": "2e97bb82-51e5-4fce-89e7-23ffa0d1578b"
      },
      "source": [
        "train_data.class_indices"
      ],
      "execution_count": 16,
      "outputs": [
        {
          "output_type": "execute_result",
          "data": {
            "text/plain": [
              "{'cats': 0, 'dogs': 1}"
            ]
          },
          "metadata": {
            "tags": []
          },
          "execution_count": 16
        }
      ]
    },
    {
      "cell_type": "code",
      "metadata": {
        "id": "G5cIQF4qK62u",
        "colab_type": "code",
        "colab": {}
      },
      "source": [
        "model = Sequential()\n",
        "model.add(Flatten())\n",
        "model.add(Dense(5000, activation='relu'))\n",
        "model.add(Dense(300, activation='relu'))\n",
        "model.add(Dense(1, activation='sigmoid'))"
      ],
      "execution_count": 17,
      "outputs": []
    },
    {
      "cell_type": "code",
      "metadata": {
        "id": "554vGjBOK_Sh",
        "colab_type": "code",
        "colab": {}
      },
      "source": [
        "model.compile(optimizer='adam',\n",
        "              loss='binary_crossentropy', # depend on our problem\n",
        "              metrics = ['acc']\n",
        "              )"
      ],
      "execution_count": 18,
      "outputs": []
    },
    {
      "cell_type": "code",
      "metadata": {
        "id": "qXYVchTMLIVP",
        "colab_type": "code",
        "colab": {
          "base_uri": "https://localhost:8080/",
          "height": 527
        },
        "outputId": "af201d1c-6579-431f-e0f6-ecbe0990f126"
      },
      "source": [
        "hist = model.fit(train_data, epochs=15)"
      ],
      "execution_count": 19,
      "outputs": [
        {
          "output_type": "stream",
          "text": [
            "Epoch 1/15\n",
            "5/5 [==============================] - 6s 1s/step - loss: 99.6521 - acc: 0.5102\n",
            "Epoch 2/15\n",
            "5/5 [==============================] - 6s 1s/step - loss: 83.3264 - acc: 0.5204\n",
            "Epoch 3/15\n",
            "5/5 [==============================] - 6s 1s/step - loss: 24.4703 - acc: 0.5714\n",
            "Epoch 4/15\n",
            "5/5 [==============================] - 6s 1s/step - loss: 19.4257 - acc: 0.4796\n",
            "Epoch 5/15\n",
            "5/5 [==============================] - 6s 1s/step - loss: 7.2829 - acc: 0.5612\n",
            "Epoch 6/15\n",
            "5/5 [==============================] - 7s 1s/step - loss: 4.1345 - acc: 0.6122\n",
            "Epoch 7/15\n",
            "5/5 [==============================] - 6s 1s/step - loss: 4.9334 - acc: 0.6633\n",
            "Epoch 8/15\n",
            "5/5 [==============================] - 6s 1s/step - loss: 8.4628 - acc: 0.5510\n",
            "Epoch 9/15\n",
            "5/5 [==============================] - 6s 1s/step - loss: 3.9674 - acc: 0.6939\n",
            "Epoch 10/15\n",
            "5/5 [==============================] - 6s 1s/step - loss: 1.5225 - acc: 0.8163\n",
            "Epoch 11/15\n",
            "5/5 [==============================] - 6s 1s/step - loss: 1.1451 - acc: 0.8265\n",
            "Epoch 12/15\n",
            "5/5 [==============================] - 6s 1s/step - loss: 1.4411 - acc: 0.7857\n",
            "Epoch 13/15\n",
            "5/5 [==============================] - 6s 1s/step - loss: 2.0447 - acc: 0.6735\n",
            "Epoch 14/15\n",
            "5/5 [==============================] - 7s 1s/step - loss: 2.1583 - acc: 0.7347\n",
            "Epoch 15/15\n",
            "5/5 [==============================] - 6s 1s/step - loss: 0.8854 - acc: 0.8776\n"
          ],
          "name": "stdout"
        }
      ]
    },
    {
      "cell_type": "code",
      "metadata": {
        "id": "q-PoMAu1UgDP",
        "colab_type": "code",
        "colab": {
          "base_uri": "https://localhost:8080/",
          "height": 51
        },
        "outputId": "1c3bcd34-16d0-48d2-8436-3428d73ea1c1"
      },
      "source": [
        "model.evaluate(train_data)"
      ],
      "execution_count": 26,
      "outputs": [
        {
          "output_type": "stream",
          "text": [
            "5/5 [==============================] - 2s 324ms/step - loss: 0.5027 - acc: 0.8673\n"
          ],
          "name": "stdout"
        },
        {
          "output_type": "execute_result",
          "data": {
            "text/plain": [
              "[0.5026567578315735, 0.8673469424247742]"
            ]
          },
          "metadata": {
            "tags": []
          },
          "execution_count": 26
        }
      ]
    },
    {
      "cell_type": "code",
      "metadata": {
        "id": "3DkJ1qvuLNgq",
        "colab_type": "code",
        "colab": {
          "base_uri": "https://localhost:8080/",
          "height": 34
        },
        "outputId": "28b786cf-9f72-4a36-c96d-0fa666cb2475"
      },
      "source": [
        "test_data = train_data_gen.flow_from_directory(\n",
        "    \"/content/gdrive/My Drive/test-set-mini-cat-dog\",\n",
        "    target_size=(150,150),\n",
        "    batch_size=20,\n",
        "    class_mode='binary'\n",
        ")"
      ],
      "execution_count": 21,
      "outputs": [
        {
          "output_type": "stream",
          "text": [
            "Found 30 images belonging to 2 classes.\n"
          ],
          "name": "stdout"
        }
      ]
    },
    {
      "cell_type": "code",
      "metadata": {
        "id": "hozf0QljT6cw",
        "colab_type": "code",
        "colab": {}
      },
      "source": [
        "import numpy as np"
      ],
      "execution_count": 22,
      "outputs": []
    },
    {
      "cell_type": "code",
      "metadata": {
        "id": "jc0t8Ap9TwM4",
        "colab_type": "code",
        "colab": {
          "base_uri": "https://localhost:8080/",
          "height": 527
        },
        "outputId": "ecd442da-75aa-400b-fe2d-77f3b2dd9ef2"
      },
      "source": [
        "np.where(model.predict(test_data)>0.5,\"Dog\",\"Cat\")"
      ],
      "execution_count": 24,
      "outputs": [
        {
          "output_type": "execute_result",
          "data": {
            "text/plain": [
              "array([['Cat'],\n",
              "       ['Dog'],\n",
              "       ['Cat'],\n",
              "       ['Cat'],\n",
              "       ['Cat'],\n",
              "       ['Dog'],\n",
              "       ['Dog'],\n",
              "       ['Dog'],\n",
              "       ['Cat'],\n",
              "       ['Cat'],\n",
              "       ['Cat'],\n",
              "       ['Cat'],\n",
              "       ['Cat'],\n",
              "       ['Dog'],\n",
              "       ['Dog'],\n",
              "       ['Cat'],\n",
              "       ['Cat'],\n",
              "       ['Dog'],\n",
              "       ['Dog'],\n",
              "       ['Dog'],\n",
              "       ['Cat'],\n",
              "       ['Dog'],\n",
              "       ['Dog'],\n",
              "       ['Cat'],\n",
              "       ['Cat'],\n",
              "       ['Dog'],\n",
              "       ['Dog'],\n",
              "       ['Dog'],\n",
              "       ['Dog'],\n",
              "       ['Dog']], dtype='<U3')"
            ]
          },
          "metadata": {
            "tags": []
          },
          "execution_count": 24
        }
      ]
    },
    {
      "cell_type": "code",
      "metadata": {
        "id": "DhXzXnjuUJmz",
        "colab_type": "code",
        "colab": {
          "base_uri": "https://localhost:8080/",
          "height": 51
        },
        "outputId": "fed08770-e1f4-41cb-a477-070fa26c7390"
      },
      "source": [
        "model.evaluate(test_data)"
      ],
      "execution_count": 25,
      "outputs": [
        {
          "output_type": "stream",
          "text": [
            "2/2 [==============================] - 0s 155ms/step - loss: 1.5827 - acc: 0.8333\n"
          ],
          "name": "stdout"
        },
        {
          "output_type": "execute_result",
          "data": {
            "text/plain": [
              "[1.5827304124832153, 0.8333333134651184]"
            ]
          },
          "metadata": {
            "tags": []
          },
          "execution_count": 25
        }
      ]
    }
  ]
}