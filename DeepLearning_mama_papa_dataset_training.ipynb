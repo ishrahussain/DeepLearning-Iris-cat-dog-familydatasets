{
  "nbformat": 4,
  "nbformat_minor": 0,
  "metadata": {
    "colab": {
      "name": "DeepLearning-mama-papa-dataset-training",
      "provenance": [],
      "collapsed_sections": []
    },
    "kernelspec": {
      "name": "python3",
      "display_name": "Python 3"
    }
  },
  "cells": [
    {
      "cell_type": "code",
      "metadata": {
        "id": "UbDKiwM9_luq",
        "colab_type": "code",
        "colab": {
          "base_uri": "https://localhost:8080/",
          "height": 34
        },
        "outputId": "2e5a8e19-3179-4288-f33f-eb86b2103063"
      },
      "source": [
        "from google.colab import drive\n",
        "drive.mount('/content/gdrive')"
      ],
      "execution_count": 1,
      "outputs": [
        {
          "output_type": "stream",
          "text": [
            "Drive already mounted at /content/gdrive; to attempt to forcibly remount, call drive.mount(\"/content/gdrive\", force_remount=True).\n"
          ],
          "name": "stdout"
        }
      ]
    },
    {
      "cell_type": "code",
      "metadata": {
        "id": "ePOrCiDAJrtJ",
        "colab_type": "code",
        "colab": {
          "base_uri": "https://localhost:8080/",
          "height": 34
        },
        "outputId": "1874d3b6-93ca-4525-e085-fcf2014aab51"
      },
      "source": [
        "!ls \"/content/gdrive/My Drive/training-dataset-mama-papa\""
      ],
      "execution_count": 2,
      "outputs": [
        {
          "output_type": "stream",
          "text": [
            "mama  papa\n"
          ],
          "name": "stdout"
        }
      ]
    },
    {
      "cell_type": "code",
      "metadata": {
        "id": "7agCFFdJJscw",
        "colab_type": "code",
        "colab": {}
      },
      "source": [
        "from tensorflow.keras.models import Sequential\n",
        "from tensorflow.keras.layers import Dense, Flatten\n",
        "from tensorflow.keras.optimizers import Adam, SGD\n",
        "from tensorflow.keras.preprocessing.image import ImageDataGenerator"
      ],
      "execution_count": 3,
      "outputs": []
    },
    {
      "cell_type": "code",
      "metadata": {
        "id": "Lk1bXOXyJspi",
        "colab_type": "code",
        "colab": {}
      },
      "source": [
        "train_data_gen = ImageDataGenerator(rescale=1.0/255)"
      ],
      "execution_count": 4,
      "outputs": []
    },
    {
      "cell_type": "code",
      "metadata": {
        "id": "XKf8D_lBKfAB",
        "colab_type": "code",
        "colab": {
          "base_uri": "https://localhost:8080/",
          "height": 34
        },
        "outputId": "faba8d90-d402-418c-decd-7fce7271a180"
      },
      "source": [
        "train_data = train_data_gen.flow_from_directory(\n",
        "    \"/content/gdrive/My Drive/training-dataset-mama-papa\",\n",
        "    target_size=(150, 150),\n",
        "    batch_size=20,\n",
        "    class_mode=\"binary\"\n",
        ")"
      ],
      "execution_count": 5,
      "outputs": [
        {
          "output_type": "stream",
          "text": [
            "Found 17 images belonging to 2 classes.\n"
          ],
          "name": "stdout"
        }
      ]
    },
    {
      "cell_type": "code",
      "metadata": {
        "id": "1S-WH00cKfJy",
        "colab_type": "code",
        "colab": {
          "base_uri": "https://localhost:8080/",
          "height": 34
        },
        "outputId": "9940559c-ec9d-464c-a267-3304516d1bbe"
      },
      "source": [
        "train_data.class_indices"
      ],
      "execution_count": 6,
      "outputs": [
        {
          "output_type": "execute_result",
          "data": {
            "text/plain": [
              "{'mama': 0, 'papa': 1}"
            ]
          },
          "metadata": {
            "tags": []
          },
          "execution_count": 6
        }
      ]
    },
    {
      "cell_type": "code",
      "metadata": {
        "id": "G5cIQF4qK62u",
        "colab_type": "code",
        "colab": {}
      },
      "source": [
        "model = Sequential()\n",
        "model.add(Flatten())\n",
        "model.add(Dense(8000, activation='relu'))\n",
        "model.add(Dense(1000, activation='relu'))\n",
        "model.add(Dense(1, activation='sigmoid'))"
      ],
      "execution_count": 7,
      "outputs": []
    },
    {
      "cell_type": "code",
      "metadata": {
        "id": "554vGjBOK_Sh",
        "colab_type": "code",
        "colab": {}
      },
      "source": [
        "model.compile(optimizer='adam',\n",
        "              loss='binary_crossentropy', # depend on our problem\n",
        "              metrics = ['acc']\n",
        "              )"
      ],
      "execution_count": 8,
      "outputs": []
    },
    {
      "cell_type": "code",
      "metadata": {
        "id": "qXYVchTMLIVP",
        "colab_type": "code",
        "colab": {
          "base_uri": "https://localhost:8080/",
          "height": 527
        },
        "outputId": "75e85b04-44b2-455e-f75e-3f3cae1921a6"
      },
      "source": [
        "hist = model.fit(train_data, epochs=15)"
      ],
      "execution_count": 9,
      "outputs": [
        {
          "output_type": "stream",
          "text": [
            "Epoch 1/15\n",
            "1/1 [==============================] - 0s 2ms/step - loss: 0.7308 - acc: 0.5294\n",
            "Epoch 2/15\n",
            "1/1 [==============================] - 0s 2ms/step - loss: 110.2991 - acc: 0.4706\n",
            "Epoch 3/15\n",
            "1/1 [==============================] - 0s 2ms/step - loss: 607.2331 - acc: 0.5294\n",
            "Epoch 4/15\n",
            "1/1 [==============================] - 0s 2ms/step - loss: 339.1004 - acc: 0.5294\n",
            "Epoch 5/15\n",
            "1/1 [==============================] - 0s 2ms/step - loss: 77.5342 - acc: 0.5294\n",
            "Epoch 6/15\n",
            "1/1 [==============================] - 0s 2ms/step - loss: 88.9930 - acc: 0.4706\n",
            "Epoch 7/15\n",
            "1/1 [==============================] - 0s 2ms/step - loss: 99.5002 - acc: 0.4706\n",
            "Epoch 8/15\n",
            "1/1 [==============================] - 0s 2ms/step - loss: 65.1784 - acc: 0.4706\n",
            "Epoch 9/15\n",
            "1/1 [==============================] - 0s 2ms/step - loss: 11.7181 - acc: 0.4706\n",
            "Epoch 10/15\n",
            "1/1 [==============================] - 0s 2ms/step - loss: 35.9505 - acc: 0.5294\n",
            "Epoch 11/15\n",
            "1/1 [==============================] - 0s 2ms/step - loss: 43.2483 - acc: 0.5294\n",
            "Epoch 12/15\n",
            "1/1 [==============================] - 0s 2ms/step - loss: 22.3660 - acc: 0.5294\n",
            "Epoch 13/15\n",
            "1/1 [==============================] - 0s 2ms/step - loss: 2.0118 - acc: 0.8235\n",
            "Epoch 14/15\n",
            "1/1 [==============================] - 0s 2ms/step - loss: 21.9643 - acc: 0.4706\n",
            "Epoch 15/15\n",
            "1/1 [==============================] - 0s 2ms/step - loss: 13.7827 - acc: 0.5294\n"
          ],
          "name": "stdout"
        }
      ]
    },
    {
      "cell_type": "code",
      "metadata": {
        "id": "q-PoMAu1UgDP",
        "colab_type": "code",
        "colab": {
          "base_uri": "https://localhost:8080/",
          "height": 51
        },
        "outputId": "4c5e1a72-d201-4fe6-d318-1a5d24370996"
      },
      "source": [
        "model.evaluate(train_data)"
      ],
      "execution_count": 17,
      "outputs": [
        {
          "output_type": "stream",
          "text": [
            "1/1 [==============================] - 0s 1ms/step - loss: 0.5290 - acc: 0.8824\n"
          ],
          "name": "stdout"
        },
        {
          "output_type": "execute_result",
          "data": {
            "text/plain": [
              "[0.5289721488952637, 0.8823529481887817]"
            ]
          },
          "metadata": {
            "tags": []
          },
          "execution_count": 17
        }
      ]
    },
    {
      "cell_type": "code",
      "metadata": {
        "id": "3DkJ1qvuLNgq",
        "colab_type": "code",
        "colab": {
          "base_uri": "https://localhost:8080/",
          "height": 34
        },
        "outputId": "474fd0e8-feaf-4942-8145-e65f8208b2c9"
      },
      "source": [
        "test_data = train_data_gen.flow_from_directory(\n",
        "    \"/content/gdrive/My Drive/test-dataset-mama-papa\",\n",
        "    target_size=(150,150),\n",
        "    batch_size=20,\n",
        "    class_mode='binary'\n",
        ")"
      ],
      "execution_count": 19,
      "outputs": [
        {
          "output_type": "stream",
          "text": [
            "Found 9 images belonging to 2 classes.\n"
          ],
          "name": "stdout"
        }
      ]
    },
    {
      "cell_type": "code",
      "metadata": {
        "id": "hozf0QljT6cw",
        "colab_type": "code",
        "colab": {}
      },
      "source": [
        "import numpy as np"
      ],
      "execution_count": 20,
      "outputs": []
    },
    {
      "cell_type": "code",
      "metadata": {
        "id": "jc0t8Ap9TwM4",
        "colab_type": "code",
        "colab": {
          "base_uri": "https://localhost:8080/",
          "height": 170
        },
        "outputId": "7ee6db03-7f77-452a-c19e-f8c09c529a6d"
      },
      "source": [
        "np.where(model.predict(test_data)>0.5,\"PAPA\",\"MAMA\")"
      ],
      "execution_count": 21,
      "outputs": [
        {
          "output_type": "execute_result",
          "data": {
            "text/plain": [
              "array([['MAMA'],\n",
              "       ['MAMA'],\n",
              "       ['MAMA'],\n",
              "       ['PAPA'],\n",
              "       ['MAMA'],\n",
              "       ['MAMA'],\n",
              "       ['MAMA'],\n",
              "       ['PAPA'],\n",
              "       ['PAPA']], dtype='<U4')"
            ]
          },
          "metadata": {
            "tags": []
          },
          "execution_count": 21
        }
      ]
    }
  ]
}